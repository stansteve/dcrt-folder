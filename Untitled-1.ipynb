{
 "cells": [
  {
   "cell_type": "code",
   "execution_count": 5,
   "metadata": {
    "pycharm": {
     "name": "#%%\n"
    }
   },
   "outputs": [],
   "source": [
    "import os\n",
    "import time\n",
    "import numpy as np\n",
    "import requests\n",
    "from bs4 import BeautifulSoup\n",
    "import pandas as pd\n",
    "import matplotlib.pyplot as plt \n",
    "import json\n",
    "import re\n",
    "from dataclasses import dataclass, asdict\n",
    "from datetime import datetime, timezone\n",
    "from pprint import pprint\n",
    "from typing import Dict, Any, Tuple, Optional, Iterable\n",
    "from urllib.parse import urljoin\n",
    "\n",
    "from requests import Session\n",
    "from bs4 import BeautifulSoup, Tag\n",
    "\n",
    "\n"
   ]
  },
  {
   "cell_type": "code",
   "execution_count": 9,
   "metadata": {
    "pycharm": {
     "name": "#%%\n"
    }
   },
   "outputs": [],
   "source": [
    "from selenium import webdriver\n",
    "from selenium.webdriver.firefox.service import Service as FirefoxService\n",
    "from webdriver_manager.firefox import GeckoDriverManager\n",
    "from selenium.webdriver.support.wait import WebDriverWait \n",
    "from selenium.webdriver.support import expected_conditions as EC \n",
    "from selenium.common.exceptions import TimeoutException\n",
    "from selenium.webdriver.firefox.options import Options\n",
    "from selenium.webdriver.common.keys import Keys\n",
    "from selenium.webdriver.common.by import By\n",
    "from selenium.webdriver.support.ui import Select\n",
    "from selenium.webdriver.common.action_chains import ActionChains"
   ]
  },
  {
   "cell_type": "code",
   "execution_count": 2,
   "metadata": {
    "pycharm": {
     "name": "#%%\n"
    }
   },
   "outputs": [],
   "source": [
    "url = \"https://www.oddsportal.com/matches/\"\n",
    "#pd.read_html(link, match=\"table-matches\")"
   ]
  },
  {
   "cell_type": "code",
   "execution_count": null,
   "metadata": {
    "pycharm": {
     "name": "#%%\n"
    }
   },
   "outputs": [],
   "source": [
    "options = Options()\n",
    "options.headless = False\n",
    "driver = webdriver.Firefox(service=FirefoxService(GeckoDriverManager().install()), options=options)\n",
    "driver.get(url)\n",
    "wait = WebDriverWait(driver,10)\n",
    "wait.until(EC.visibility_of_all_elements_located((By.XPATH,'//*[contains(@class,\"table-matches\")]//tr')))\n",
    "driver.find_element(By.XPATH, '//table-matches').text\n",
    "driver.quit()"
   ]
  },
  {
   "cell_type": "code",
   "execution_count": 4,
   "metadata": {
    "pycharm": {
     "name": "#%%\n"
    }
   },
   "outputs": [
    {
     "data": {
      "text/plain": [
       "<Response [404]>"
      ]
     },
     "execution_count": 4,
     "metadata": {},
     "output_type": "execute_result"
    }
   ],
   "source": [
    "requests.get(url)"
   ]
  },
  {
   "cell_type": "code",
   "execution_count": null,
   "metadata": {
    "pycharm": {
     "name": "#%%\n"
    }
   },
   "outputs": [],
   "source": [
    "soup = BeautifulSoup(url, 'html.parser')"
   ]
  },
  {
   "cell_type": "code",
   "execution_count": 6,
   "metadata": {
    "pycharm": {
     "name": "#%%\n"
    }
   },
   "outputs": [],
   "source": [
    "\n",
    "BASE = 'https://www.oddsportal.com'\n",
    "TERRIBLE_TIMESTAMP_PAT = re.compile(r'^t(\\d+)-')\n"
   ]
  },
  {
   "cell_type": "code",
   "execution_count": 7,
   "metadata": {
    "pycharm": {
     "name": "#%%\n"
    }
   },
   "outputs": [],
   "source": [
    "def decode_terrible_timestamp_class(tag: Tag) -> datetime:\n",
    "    for cls in tag['class']:\n",
    "        match = TERRIBLE_TIMESTAMP_PAT.search(cls)\n",
    "        if match:\n",
    "            break\n",
    "    else:\n",
    "        raise ValueError(f'{tag} does not seem to contain a valid timestamp')\n",
    "\n",
    "    stamp = int(match[1])\n",
    "    return datetime.fromtimestamp(stamp, tz=timezone.utc)"
   ]
  },
  {
   "cell_type": "code",
   "execution_count": 8,
   "metadata": {
    "pycharm": {
     "name": "#%%\n"
    }
   },
   "outputs": [],
   "source": [
    "# Refer to https://www.oddsportal.com/res/x/global-210609145530.js\n",
    "# this.d = function (str)\n",
    "ODDS_TABLE = str.maketrans(\n",
    "    'axcteopzf',\n",
    "    '1234567.|',\n",
    ")"
   ]
  },
  {
   "cell_type": "code",
   "execution_count": 10,
   "metadata": {
    "pycharm": {
     "name": "#%%\n"
    }
   },
   "outputs": [],
   "source": [
    "def decode_terrible_odds(decorated: Tag) -> Tuple[float, Optional[float]]:\n",
    "    odds = decorated['xodd'].translate(ODDS_TABLE).split('|')\n",
    "\n",
    "    if len(odds) == 1:\n",
    "        return float(odds), None\n",
    "    preferred, normal = odds\n",
    "    return float(normal), float(preferred)\n"
   ]
  },
  {
   "cell_type": "code",
   "execution_count": 14,
   "metadata": {
    "pycharm": {
     "name": "#%%\n"
    }
   },
   "outputs": [],
   "source": [
    "\n",
    "def start_search(session: Session, year: int) -> Dict[str, Any]:\n",
    "    url = urljoin(BASE, f'/soccer/england/premier-league-{year}-{year+1}/results/')\n",
    "    with session.get(url) as resp:\n",
    "        resp.raise_for_status()\n",
    "        doc = BeautifulSoup(resp.text, 'lxml')\n",
    "\n",
    "    script_pat = re.compile(r'new PageTournament\\(')\n",
    "    for script in doc.select('body > script'):\n",
    "        match = script_pat.search(script.string)\n",
    "        if match:\n",
    "            break\n",
    "    else:\n",
    "        raise ValueError('ID script not found')\n",
    "\n",
    "    start = match.end()\n",
    "    end = script.string.find('}', start) + 1\n",
    "    json_str = script.string[start: end]\n",
    "    ids = json.loads(json_str)\n",
    "    return ids"
   ]
  },
  {
   "cell_type": "code",
   "execution_count": 13,
   "metadata": {
    "pycharm": {
     "name": "#%%\n"
    }
   },
   "outputs": [],
   "source": [
    "\n",
    "def get_page(session: Session, sid: int, id: str, page: int) -> Iterable[GameData]:\n",
    "    bookie_hash = 'X0'\n",
    "    use_premium = 1\n",
    "    timezone_offset = 0\n",
    "\n",
    "    archive_url = urljoin(\n",
    "        BASE,\n",
    "        f'/ajax-sport-country-tournament-archive'\n",
    "        f'/{sid}'\n",
    "        f'/{id}'\n",
    "        f'/{bookie_hash}'\n",
    "        f'/{use_premium}'\n",
    "        f'/{timezone_offset}'\n",
    "        f'/{page}'\n",
    "        f'/'\n",
    "    )\n",
    "\n",
    "    with session.get(archive_url) as resp:\n",
    "        resp.raise_for_status()\n",
    "        start = resp.text.find('{')\n",
    "        end = resp.text.rfind('}') + 1\n",
    "        json_str = resp.text[start: end]\n",
    "\n",
    "    html = json.loads(json_str)['d']['html']\n",
    "    doc = BeautifulSoup(html, 'lxml')\n",
    "\n",
    "    head = doc.find('th')\n",
    "    sport, country, season = head.find_all('a')\n",
    "\n",
    "    for tr in doc.find_all('tr'):\n",
    "        date_header = tr.select_one('th[colspan=\"3\"]')\n",
    "        if date_header:\n",
    "            date_span = date_header.find('span')\n",
    "            continue\n",
    "\n",
    "        if tr.select_one('td.table-time'):\n",
    "            yield GameData.from_tags(\n",
    "                sport, country, season, date_span,\n",
    "                *tr.find_all('td'),\n",
    "            )"
   ]
  },
  {
   "cell_type": "code",
   "execution_count": 12,
   "metadata": {
    "pycharm": {
     "name": "#%%\n"
    }
   },
   "outputs": [],
   "source": [
    "@dataclass\n",
    "class GameData:\n",
    "    sport: str\n",
    "    sport_path: str\n",
    "    country: str\n",
    "    country_path: str\n",
    "    season: str\n",
    "    season_path: str\n",
    "\n",
    "    when: datetime\n",
    "    path: str\n",
    "\n",
    "    home_team: str\n",
    "    away_team: str\n",
    "    home_team_won: bool\n",
    "    away_team_won: bool\n",
    "    home_score: int\n",
    "    away_score: int\n",
    "\n",
    "    home_odds: float\n",
    "    home_odds_preferred: float\n",
    "    draw_odds: float\n",
    "    draw_odds_preferred: float\n",
    "    away_odds: float\n",
    "    away_odds_preferred: float\n",
    "\n",
    "    bookmakers: int\n",
    "\n",
    "    @classmethod\n",
    "    def from_tags(\n",
    "        cls,\n",
    "        sport: Tag,\n",
    "        country: Tag,\n",
    "        season: Tag,\n",
    "        date_span: Tag,\n",
    "        time: Tag,\n",
    "        teams: Tag,\n",
    "        score: Tag,\n",
    "        home_odds: Tag,\n",
    "        draw_odds: Tag,\n",
    "        away_odds: Tag,\n",
    "        bookmakers: Tag,\n",
    "    ):\n",
    "        home_score, away_score = score.text.split(':')\n",
    "\n",
    "        when = datetime.combine(\n",
    "            decode_terrible_timestamp_class(date_span).date(),\n",
    "            decode_terrible_timestamp_class(time).time(),\n",
    "            tzinfo=timezone.utc,\n",
    "        )\n",
    "\n",
    "        team_anchor = teams.find('a')\n",
    "        any_span = team_anchor.find('span')\n",
    "        if any_span:\n",
    "            home_team, away_team = (\n",
    "                t.text if isinstance(t, Tag) else t.strip('- ')\n",
    "                for t in team_anchor.children\n",
    "            )\n",
    "            home_team_won, away_team_won = (\n",
    "                isinstance(t, Tag)\n",
    "                for t in team_anchor.children\n",
    "            )\n",
    "        else:\n",
    "            home_team, away_team = team_anchor.text.split('-')\n",
    "            home_team_won, away_team_won = False, False\n",
    "\n",
    "        home_odds_norm, home_odds_pref = decode_terrible_odds(home_odds)\n",
    "        draw_odds_norm, draw_odds_pref = decode_terrible_odds(draw_odds)\n",
    "        away_odds_norm, away_odds_pref = decode_terrible_odds(away_odds)\n",
    "\n",
    "        game = cls(\n",
    "            sport=sport.text.strip(),\n",
    "            sport_path=sport['href'],\n",
    "            country=country.text.strip(),\n",
    "            country_path=country['href'],\n",
    "            season=season.text.strip(),\n",
    "            season_path=season['href'],\n",
    "            when=when,\n",
    "            path=team_anchor['href'],\n",
    "            home_team=home_team,\n",
    "            away_team=away_team,\n",
    "            home_team_won=home_team_won,\n",
    "            away_team_won=away_team_won,\n",
    "            home_score=int(home_score),\n",
    "            away_score=int(away_score),\n",
    "            home_odds=home_odds_norm,\n",
    "            home_odds_preferred=home_odds_pref,\n",
    "            draw_odds=draw_odds_norm,\n",
    "            draw_odds_preferred=draw_odds_pref,\n",
    "            away_odds=away_odds_norm,\n",
    "            away_odds_preferred=away_odds_pref,\n",
    "            bookmakers=int(bookmakers.text),\n",
    "        )\n",
    "        return game"
   ]
  },
  {
   "cell_type": "code",
   "execution_count": 11,
   "metadata": {
    "pycharm": {
     "name": "#%%\n"
    }
   },
   "outputs": [],
   "source": [
    "\n",
    "\n",
    "def main():\n",
    "    with Session() as session:\n",
    "        session.headers = {'User-Agent': 'Mozilla/5.0'}\n",
    "\n",
    "        ids = start_search(session, year=2020)\n",
    "\n",
    "        for page in range(1, 3):\n",
    "            for game in get_page(session, ids['sid'], ids['id'], page):\n",
    "                pprint(asdict(game))\n"
   ]
  },
  {
   "cell_type": "code",
   "execution_count": null,
   "metadata": {
    "pycharm": {
     "name": "#%%\n"
    }
   },
   "outputs": [],
   "source": [
    "\n",
    "if __name__ == '__main__':\n",
    "    main()"
   ]
  },
  {
   "cell_type": "code",
   "execution_count": null,
   "metadata": {
    "pycharm": {
     "name": "#%%\n"
    }
   },
   "outputs": [],
   "source": [
    "odds = soup.find_all('td', class_=\"name table-participant\")\n",
    "for el in odds:\n",
    "    links_in_first_column = el.find_all('a')\n",
    "    match_name = ''.join(map(lambda e : e.text.strip(), links_in_first_column))\n",
    "    print(match_name)\n",
    "\n",
    "    odds_columns = el.find_next_siblings('td', xodd=True)\n",
    "    print (odds_columns[0]['xodd'])\n",
    "    print (odds_columns[1]['xodd'])\n",
    "    print (odds_columns[2]['xodd'])"
   ]
  }
 ],
 "metadata": {
  "kernelspec": {
   "display_name": "Python 3.10.7 ('.venv': venv)",
   "language": "python",
   "name": "python3"
  },
  "language_info": {
   "codemirror_mode": {
    "name": "ipython",
    "version": 3
   },
   "file_extension": ".py",
   "mimetype": "text/x-python",
   "name": "python",
   "nbconvert_exporter": "python",
   "pygments_lexer": "ipython3",
   "version": "3.10.7"
  },
  "orig_nbformat": 4,
  "vscode": {
   "interpreter": {
    "hash": "f0979fbf0565e6ce5206c05e5a8b939717ae66e51f523a2060dd68db976a8a7f"
   }
  }
 },
 "nbformat": 4,
 "nbformat_minor": 2
}