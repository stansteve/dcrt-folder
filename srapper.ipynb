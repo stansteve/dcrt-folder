{
 "cells": [
  {
   "cell_type": "code",
   "execution_count": 1,
   "metadata": {
    "pycharm": {
     "name": "#%%\n"
    }
   },
   "outputs": [],
   "source": [
    "import time"
   ]
  },
  {
   "cell_type": "code",
   "execution_count": null,
   "metadata": {
    "pycharm": {
     "name": "#%%\n"
    }
   },
   "outputs": [],
   "source": [
    "%pip install \"camelot-py[cv]\""
   ]
  },
  {
   "cell_type": "code",
   "execution_count": 52,
   "metadata": {
    "pycharm": {
     "name": "#%%\n"
    }
   },
   "outputs": [],
   "source": [
    "import camelot"
   ]
  },
  {
   "cell_type": "code",
   "execution_count": 53,
   "metadata": {
    "pycharm": {
     "name": "#%%\n"
    }
   },
   "outputs": [],
   "source": [
    "file_path = \"/home/fiend/Downloads/Games.pdf\""
   ]
  },
  {
   "cell_type": "code",
   "execution_count": 54,
   "metadata": {
    "pycharm": {
     "name": "#%%\n"
    }
   },
   "outputs": [],
   "source": [
    "tables = camelot.read_pdf(file_path)"
   ]
  },
  {
   "cell_type": "code",
   "execution_count": null,
   "metadata": {
    "pycharm": {
     "name": "#%%\n",
     "is_executing": true
    }
   },
   "outputs": [],
   "source": [
    "df = tables[1].df\n",
    "df.tail(10)"
   ]
  },
  {
   "cell_type": "code",
   "execution_count": 11,
   "metadata": {
    "pycharm": {
     "name": "#%%\n"
    }
   },
   "outputs": [],
   "source": [
    "import requests"
   ]
  },
  {
   "cell_type": "code",
   "execution_count": 16,
   "metadata": {
    "pycharm": {
     "name": "#%%\n"
    }
   },
   "outputs": [],
   "source": [
    "from selenium import webdriver\n",
    "from selenium.webdriver.firefox.service import Service as FirefoxService\n",
    "from webdriver_manager.firefox import GeckoDriverManager\n",
    "from selenium.webdriver.support.wait import WebDriverWait \n",
    "from selenium.webdriver.support import expected_conditions as EC \n",
    "from selenium.common.exceptions import TimeoutException\n",
    "from selenium.webdriver.firefox.options import Options\n",
    "from selenium.webdriver.common.keys import Keys\n",
    "from selenium.webdriver.common.by import By\n",
    "from selenium.webdriver.support.ui import Select\n",
    "from selenium.webdriver.common.action_chains import ActionChains"
   ]
  },
  {
   "cell_type": "code",
   "execution_count": 1,
   "metadata": {
    "pycharm": {
     "name": "#%%\n"
    }
   },
   "outputs": [],
   "source": [
    "import os\n",
    "import time\n",
    "import numpy as np\n",
    "import re\n",
    "import sys\n",
    "import signal\n",
    "import re\n",
    "import urllib.request\n",
    "from bs4 import BeautifulSoup\n",
    "import pandas as pd\n",
    "import matplotlib.pyplot as plt \n"
   ]
  },
  {
   "cell_type": "code",
   "execution_count": 42,
   "metadata": {
    "pycharm": {
     "name": "#%%\n"
    }
   },
   "outputs": [],
   "source": [
    "url = 'https://www.betika.com/en-ke/download-fixtures'"
   ]
  },
  {
   "cell_type": "code",
   "execution_count": 44,
   "metadata": {
    "pycharm": {
     "name": "#%%\n"
    }
   },
   "outputs": [],
   "source": [
    "wait = 10\n",
    "timeout = WebDriverWait(driver, wait)\n",
    "\n"
   ]
  },
  {
   "cell_type": "code",
   "execution_count": 48,
   "metadata": {
    "pycharm": {
     "name": "#%%\n"
    }
   },
   "outputs": [],
   "source": [
    "options = Options()\n",
    "options.headless = False\n",
    "driver = webdriver.Firefox(service=FirefoxService(GeckoDriverManager().install()), options=options)\n",
    "driver.get(url)"
   ]
  },
  {
   "cell_type": "markdown",
   "metadata": {
    "pycharm": {
     "name": "#%% md\n"
    }
   },
   "source": [
    "#scrape odds portal"
   ]
  },
  {
   "cell_type": "code",
   "execution_count": 106,
   "metadata": {
    "pycharm": {
     "name": "#%%\n"
    }
   },
   "outputs": [],
   "source": [
    "global TYPE_ODDS\n",
    "TYPE_ODDS = 'CLOSING' "
   ]
  },
  {
   "cell_type": "code",
   "execution_count": 107,
   "metadata": {
    "pycharm": {
     "name": "#%%\n"
    }
   },
   "outputs": [],
   "source": [
    "url = 'https://www.oddsportal.com/'"
   ]
  },
  {
   "cell_type": "code",
   "execution_count": 108,
   "metadata": {
    "pycharm": {
     "name": "#%%\n"
    }
   },
   "outputs": [
    {
     "ename": "AttributeError",
     "evalue": "'WebDriver' object has no attribute 'find_element_by_xpath'",
     "output_type": "error",
     "traceback": [
      "\u001B[0;31m---------------------------------------------------------------------------\u001B[0m",
      "\u001B[0;31mAttributeError\u001B[0m                            Traceback (most recent call last)",
      "Cell \u001B[0;32mIn [108], line 1\u001B[0m\n\u001B[0;32m----> 1\u001B[0m data \u001B[38;5;241m=\u001B[39m \u001B[43mdriver\u001B[49m\u001B[38;5;241;43m.\u001B[39;49m\u001B[43mfind_element_by_xpath\u001B[49m(xpath)\n",
      "\u001B[0;31mAttributeError\u001B[0m: 'WebDriver' object has no attribute 'find_element_by_xpath'"
     ]
    }
   ],
   "source": [
    "data = driver.find_element_by_xpath(xpath)"
   ]
  },
  {
   "cell_type": "code",
   "execution_count": null,
   "metadata": {
    "pycharm": {
     "name": "#%%\n"
    }
   },
   "outputs": [],
   "source": [
    "\n",
    "hov = ActionChains(driver).move_to_element(data)\n",
    "hov.perform()\n",
    "data_in_the_bubble = driver.find_element_by_xpath(\"//*[@id='tooltiptext']\")\n",
    "hover_data = data_in_the_bubble.get_attribute(\"innerHTML\")\n",
    "\n",
    "    # II. Extract opening odds\n",
    "b = re.split('<br>', hover_data)\n",
    "c = [re.split('</strong>',y)[0] for y in b][-2]\n",
    "opening_odd = re.split('<strong>', c)[1]\n"
   ]
  },
  {
   "cell_type": "code",
   "execution_count": null,
   "metadata": {
    "pycharm": {
     "name": "#%%\n"
    }
   },
   "outputs": [],
   "source": [
    "#All leagues\n",
    "class=\"print__select__title\"\n",
    "#next 48 hrs\n",
    "🔥 Next 48hrs\n"
   ]
  },
  {
   "cell_type": "code",
   "execution_count": 47,
   "metadata": {
    "pycharm": {
     "name": "#%%\n"
    }
   },
   "outputs": [],
   "source": [
    "driver.find_element(By.CLASS_NAME, \"print__tabs__button__container\").click()"
   ]
  },
  {
   "cell_type": "markdown",
   "metadata": {
    "pycharm": {
     "name": "#%% md\n"
    }
   },
   "source": [
    "## Using beautiful soup"
   ]
  },
  {
   "cell_type": "code",
   "execution_count": 77,
   "metadata": {
    "pycharm": {
     "name": "#%%\n"
    }
   },
   "outputs": [],
   "source": [
    "page_url = \"https://www.futbol24.com/Live/\""
   ]
  },
  {
   "cell_type": "code",
   "execution_count": 78,
   "metadata": {
    "pycharm": {
     "name": "#%%\n"
    }
   },
   "outputs": [],
   "source": [
    "soup = BeautifulSoup(requests.get(page_url).content, 'html.parser')"
   ]
  },
  {
   "cell_type": "code",
   "execution_count": null,
   "metadata": {
    "pycharm": {
     "name": "#%%\n"
    }
   },
   "outputs": [],
   "source": [
    "print(soup.prettify())"
   ]
  },
  {
   "cell_type": "code",
   "execution_count": null,
   "metadata": {
    "pycharm": {
     "name": "#%%\n"
    }
   },
   "outputs": [],
   "source": [
    "print(soup.find_all('span'))"
   ]
  },
  {
   "cell_type": "code",
   "execution_count": 95,
   "metadata": {
    "pycharm": {
     "name": "#%%\n"
    }
   },
   "outputs": [
    {
     "data": {
      "text/plain": [
       "0"
      ]
     },
     "execution_count": 95,
     "metadata": {},
     "output_type": "execute_result"
    }
   ],
   "source": [
    "len(soup.find_all(\"span\", {\"class='team'\"}))"
   ]
  },
  {
   "cell_type": "code",
   "execution_count": 103,
   "metadata": {
    "pycharm": {
     "name": "#%%\n"
    }
   },
   "outputs": [
    {
     "name": "stdout",
     "output_type": "stream",
     "text": [
      "None\n"
     ]
    }
   ],
   "source": [
    "print(soup.find('span', {'class':'team'}))\n",
    "    \n"
   ]
  },
  {
   "cell_type": "code",
   "execution_count": 98,
   "metadata": {
    "pycharm": {
     "name": "#%%\n"
    }
   },
   "outputs": [
    {
     "data": {
      "text/plain": [
       "0"
      ]
     },
     "execution_count": 98,
     "metadata": {},
     "output_type": "execute_result"
    }
   ],
   "source": [
    "len(teams)"
   ]
  },
  {
   "cell_type": "code",
   "execution_count": 90,
   "metadata": {
    "pycharm": {
     "name": "#%%\n"
    }
   },
   "outputs": [
    {
     "name": "stdout",
     "output_type": "stream",
     "text": [
      "None\n",
      "None\n",
      "None\n",
      "None\n",
      "None\n",
      "None\n",
      "None\n",
      "None\n",
      "None\n",
      "None\n",
      "None\n"
     ]
    }
   ],
   "source": [
    "contents = []\n",
    "for td in matches:\n",
    "  content = td.find(\"span\", {\"class='team'\"})\n",
    "  print(f\"{content}\")"
   ]
  },
  {
   "cell_type": "code",
   "execution_count": 85,
   "metadata": {
    "pycharm": {
     "name": "#%%\n"
    }
   },
   "outputs": [
    {
     "data": {
      "text/plain": [
       "11"
      ]
     },
     "execution_count": 85,
     "metadata": {},
     "output_type": "execute_result"
    }
   ],
   "source": [
    "len(matches)"
   ]
  },
  {
   "cell_type": "code",
   "execution_count": null,
   "metadata": {
    "pycharm": {
     "name": "#%%\n"
    }
   },
   "outputs": [],
   "source": [
    "for span in matches.span.find_all('span', recursive=False):\n",
    "    print (f\"{span.attrs['title']}\")"
   ]
  },
  {
   "cell_type": "code",
   "execution_count": 4,
   "metadata": {
    "pycharm": {
     "name": "#%%\n"
    }
   },
   "outputs": [
    {
     "ename": "ImportError",
     "evalue": "html5lib not found, please install it",
     "output_type": "error",
     "traceback": [
      "\u001B[0;31m---------------------------------------------------------------------------\u001B[0m",
      "\u001B[0;31mImportError\u001B[0m                               Traceback (most recent call last)",
      "Cell \u001B[0;32mIn [4], line 2\u001B[0m\n\u001B[1;32m      1\u001B[0m link \u001B[38;5;241m=\u001B[39m \u001B[38;5;124m\"\u001B[39m\u001B[38;5;124mhttps://www.oddsportal.com/matches/\u001B[39m\u001B[38;5;124m\"\u001B[39m\n\u001B[0;32m----> 2\u001B[0m \u001B[43mpd\u001B[49m\u001B[38;5;241;43m.\u001B[39;49m\u001B[43mread_html\u001B[49m\u001B[43m(\u001B[49m\u001B[43mlink\u001B[49m\u001B[43m,\u001B[49m\u001B[43m \u001B[49m\u001B[43mmatch\u001B[49m\u001B[38;5;241;43m=\u001B[39;49m\u001B[38;5;124;43m'\u001B[39;49m\u001B[38;5;124;43mNext Soccer Matches: Today, 24 Sep 2022\u001B[39;49m\u001B[38;5;124;43m'\u001B[39;49m\u001B[43m)\u001B[49m\n",
      "File \u001B[0;32m~/DevOp/python/bet/.venv/lib/python3.10/site-packages/pandas/util/_decorators.py:317\u001B[0m, in \u001B[0;36mdeprecate_nonkeyword_arguments.<locals>.decorate.<locals>.wrapper\u001B[0;34m(*args, **kwargs)\u001B[0m\n\u001B[1;32m    311\u001B[0m \u001B[39mif\u001B[39;00m \u001B[39mlen\u001B[39m(args) \u001B[39m>\u001B[39m num_allow_args:\n\u001B[1;32m    312\u001B[0m     warnings\u001B[39m.\u001B[39mwarn(\n\u001B[1;32m    313\u001B[0m         msg\u001B[39m.\u001B[39mformat(arguments\u001B[39m=\u001B[39marguments),\n\u001B[1;32m    314\u001B[0m         \u001B[39mFutureWarning\u001B[39;00m,\n\u001B[1;32m    315\u001B[0m         stacklevel\u001B[39m=\u001B[39mfind_stack_level(inspect\u001B[39m.\u001B[39mcurrentframe()),\n\u001B[1;32m    316\u001B[0m     )\n\u001B[0;32m--> 317\u001B[0m \u001B[39mreturn\u001B[39;00m func(\u001B[39m*\u001B[39;49margs, \u001B[39m*\u001B[39;49m\u001B[39m*\u001B[39;49mkwargs)\n",
      "File \u001B[0;32m~/DevOp/python/bet/.venv/lib/python3.10/site-packages/pandas/io/html.py:1205\u001B[0m, in \u001B[0;36mread_html\u001B[0;34m(io, match, flavor, header, index_col, skiprows, attrs, parse_dates, thousands, encoding, decimal, converters, na_values, keep_default_na, displayed_only, extract_links)\u001B[0m\n\u001B[1;32m   1201\u001B[0m validate_header_arg(header)\n\u001B[1;32m   1203\u001B[0m io \u001B[39m=\u001B[39m stringify_path(io)\n\u001B[0;32m-> 1205\u001B[0m \u001B[39mreturn\u001B[39;00m _parse(\n\u001B[1;32m   1206\u001B[0m     flavor\u001B[39m=\u001B[39;49mflavor,\n\u001B[1;32m   1207\u001B[0m     io\u001B[39m=\u001B[39;49mio,\n\u001B[1;32m   1208\u001B[0m     match\u001B[39m=\u001B[39;49mmatch,\n\u001B[1;32m   1209\u001B[0m     header\u001B[39m=\u001B[39;49mheader,\n\u001B[1;32m   1210\u001B[0m     index_col\u001B[39m=\u001B[39;49mindex_col,\n\u001B[1;32m   1211\u001B[0m     skiprows\u001B[39m=\u001B[39;49mskiprows,\n\u001B[1;32m   1212\u001B[0m     parse_dates\u001B[39m=\u001B[39;49mparse_dates,\n\u001B[1;32m   1213\u001B[0m     thousands\u001B[39m=\u001B[39;49mthousands,\n\u001B[1;32m   1214\u001B[0m     attrs\u001B[39m=\u001B[39;49mattrs,\n\u001B[1;32m   1215\u001B[0m     encoding\u001B[39m=\u001B[39;49mencoding,\n\u001B[1;32m   1216\u001B[0m     decimal\u001B[39m=\u001B[39;49mdecimal,\n\u001B[1;32m   1217\u001B[0m     converters\u001B[39m=\u001B[39;49mconverters,\n\u001B[1;32m   1218\u001B[0m     na_values\u001B[39m=\u001B[39;49mna_values,\n\u001B[1;32m   1219\u001B[0m     keep_default_na\u001B[39m=\u001B[39;49mkeep_default_na,\n\u001B[1;32m   1220\u001B[0m     displayed_only\u001B[39m=\u001B[39;49mdisplayed_only,\n\u001B[1;32m   1221\u001B[0m     extract_links\u001B[39m=\u001B[39;49mextract_links,\n\u001B[1;32m   1222\u001B[0m )\n",
      "File \u001B[0;32m~/DevOp/python/bet/.venv/lib/python3.10/site-packages/pandas/io/html.py:982\u001B[0m, in \u001B[0;36m_parse\u001B[0;34m(flavor, io, match, attrs, encoding, displayed_only, extract_links, **kwargs)\u001B[0m\n\u001B[1;32m    980\u001B[0m retained \u001B[39m=\u001B[39m \u001B[39mNone\u001B[39;00m\n\u001B[1;32m    981\u001B[0m \u001B[39mfor\u001B[39;00m flav \u001B[39min\u001B[39;00m flavor:\n\u001B[0;32m--> 982\u001B[0m     parser \u001B[39m=\u001B[39m _parser_dispatch(flav)\n\u001B[1;32m    983\u001B[0m     p \u001B[39m=\u001B[39m parser(io, compiled_match, attrs, encoding, displayed_only, extract_links)\n\u001B[1;32m    985\u001B[0m     \u001B[39mtry\u001B[39;00m:\n",
      "File \u001B[0;32m~/DevOp/python/bet/.venv/lib/python3.10/site-packages/pandas/io/html.py:931\u001B[0m, in \u001B[0;36m_parser_dispatch\u001B[0;34m(flavor)\u001B[0m\n\u001B[1;32m    929\u001B[0m \u001B[39mif\u001B[39;00m flavor \u001B[39min\u001B[39;00m (\u001B[39m\"\u001B[39m\u001B[39mbs4\u001B[39m\u001B[39m\"\u001B[39m, \u001B[39m\"\u001B[39m\u001B[39mhtml5lib\u001B[39m\u001B[39m\"\u001B[39m):\n\u001B[1;32m    930\u001B[0m     \u001B[39mif\u001B[39;00m \u001B[39mnot\u001B[39;00m _HAS_HTML5LIB:\n\u001B[0;32m--> 931\u001B[0m         \u001B[39mraise\u001B[39;00m \u001B[39mImportError\u001B[39;00m(\u001B[39m\"\u001B[39m\u001B[39mhtml5lib not found, please install it\u001B[39m\u001B[39m\"\u001B[39m)\n\u001B[1;32m    932\u001B[0m     \u001B[39mif\u001B[39;00m \u001B[39mnot\u001B[39;00m _HAS_BS4:\n\u001B[1;32m    933\u001B[0m         \u001B[39mraise\u001B[39;00m \u001B[39mImportError\u001B[39;00m(\u001B[39m\"\u001B[39m\u001B[39mBeautifulSoup4 (bs4) not found, please install it\u001B[39m\u001B[39m\"\u001B[39m)\n",
      "\u001B[0;31mImportError\u001B[0m: html5lib not found, please install it"
     ]
    }
   ],
   "source": [
    "link = \"https://www.oddsportal.com/matches/\"\n",
    "pd.read_html(link, match='Next Soccer Matches: Today, 24 Sep 2022')"
   ]
  }
 ],
 "metadata": {
  "kernelspec": {
   "display_name": "Python 3.10.7 ('.venv': venv)",
   "language": "python",
   "name": "python3"
  },
  "language_info": {
   "codemirror_mode": {
    "name": "ipython",
    "version": 3
   },
   "file_extension": ".py",
   "mimetype": "text/x-python",
   "name": "python",
   "nbconvert_exporter": "python",
   "pygments_lexer": "ipython3",
   "version": "3.10.7"
  },
  "orig_nbformat": 4,
  "vscode": {
   "interpreter": {
    "hash": "f0979fbf0565e6ce5206c05e5a8b939717ae66e51f523a2060dd68db976a8a7f"
   }
  }
 },
 "nbformat": 4,
 "nbformat_minor": 2
}